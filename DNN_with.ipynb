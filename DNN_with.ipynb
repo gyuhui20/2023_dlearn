{
 "cells": [
  {
   "cell_type": "code",
   "execution_count": 22,
   "metadata": {},
   "outputs": [],
   "source": [
    "import numpy as np\n",
    "import pandas as pd\n",
    "import matplotlib.pyplot as plt\n",
    "import time\n",
    "import tqdm as tqdm\n",
    "import torch\n",
    "import torch.nn as nn\n",
    "import torch.optim as optim\n",
    "\n",
    "plt.rcParams['axes.unicode_minus']=False\n",
    "np.set_printoptions(suppress=True, precision=4)\n",
    "\n",
    "import warnings\n",
    "warnings.simplefilter('ignore')"
   ]
  },
  {
   "cell_type": "markdown",
   "metadata": {},
   "source": [
    "### 데이터 업로드 및 전처리"
   ]
  },
  {
   "cell_type": "code",
   "execution_count": 21,
   "metadata": {},
   "outputs": [
    {
     "ename": "SyntaxError",
     "evalue": "invalid syntax. Perhaps you forgot a comma? (3611596430.py, line 2)",
     "output_type": "error",
     "traceback": [
      "\u001b[0;36m  Cell \u001b[0;32mIn[21], line 2\u001b[0;36m\u001b[0m\n\u001b[0;31m    x_org = np.hstack([raw_df.values[], raw_df.values[]])\u001b[0m\n\u001b[0m                       ^\u001b[0m\n\u001b[0;31mSyntaxError\u001b[0m\u001b[0;31m:\u001b[0m invalid syntax. Perhaps you forgot a comma?\n"
     ]
    }
   ],
   "source": [
    "raw_df = pd.read_excel('평균수온_1.xlsx')\n",
    "x_org = np.hstack([raw_df.values[], raw_df.values[]])\n",
    "yt = raw_df.values[]\n",
    "inputs = dkfsfjselkfj;ase\n",
    "outputs = \n",
    "trainloader = \n",
    "testloader = aesfaesf"
   ]
  },
  {
   "cell_type": "code",
   "execution_count": 13,
   "metadata": {},
   "outputs": [],
   "source": [
    "n_input = 784\n",
    "n_output = 10\n",
    "n_hidden = 128\n",
    "lr = 1e-6\n",
    "num_epochs = 1000\n",
    "batch_size = 10"
   ]
  },
  {
   "cell_type": "markdown",
   "metadata": {},
   "source": [
    "### 클래스 정의"
   ]
  },
  {
   "cell_type": "code",
   "execution_count": 9,
   "metadata": {},
   "outputs": [],
   "source": [
    "class net(nn.Module):\n",
    "    def __init__(self, n_input, n_output, n_hidden):\n",
    "        super().__init__()\n",
    "        \n",
    "        self.l1 = nn.Linear(n_input, n_hidden)\n",
    "        self.l2 = nn.Linear(n_hidden, n_hidden)\n",
    "        \n",
    "        self.l3 = nn.Linear(n_hidden, n_output)\n",
    "        self.relu = nn.ReLU(inplace=True)\n",
    "        \n",
    "    def forward(self, x):\n",
    "        x1 = self.l1(x)\n",
    "        x2 = self.reLU(x1)\n",
    "        x3 = self.l2(x2)\n",
    "        x4 = self.reLU(x3)\n",
    "        x5 = self.l3(x4)\n",
    "        return x5"
   ]
  },
  {
   "cell_type": "code",
   "execution_count": 10,
   "metadata": {},
   "outputs": [],
   "source": [
    "model = net(n_input, n_output, n_hidden)\n",
    "\n",
    "criterion = nn.CrossEntropyLoss()\n",
    "\n",
    "optimizer = torch.optim.SGD(DNN_model.parameters(), lr=lr)"
   ]
  },
  {
   "cell_type": "code",
   "execution_count": null,
   "metadata": {},
   "outputs": [],
   "source": [
    "train_loss = []\n",
    "train_acc = []\n",
    "\n",
    "for inputs, outputs in tqdm(trainloader):\n",
    "    \n",
    "    x_train = inputs\n",
    "    y_train = outputs\n",
    "    \n",
    "    optimizer.zero_grad()\n",
    "    y_train_pred = model(x_train)\n",
    "    loss = criterion(y_train_pred, y_train)\n",
    "    loss.backward()\n",
    "    optimizer.step()\n",
    "    \n",
    "    train_loss.append(loss.item())\n",
    "    pred = np.argmax(y_train_pred, axis=1)\n",
    "    acc = np.sum(pred == y_train) / float(x_train.shape[0])\n",
    "    train_acc.append(acc)\n",
    "    "
   ]
  },
  {
   "cell_type": "code",
   "execution_count": null,
   "metadata": {},
   "outputs": [],
   "source": [
    "test_loss = []\n",
    "test_acc = []\n",
    "n_test = 0\n",
    "    \n",
    "for inputs_test, outputs_test in tqdm(trainloader):\n",
    "    n_test += len(outputs_test)\n",
    "    x_test = inputs_test\n",
    "    y_test = outputs_test\n",
    "    \n",
    "    y_test_pred = model(x_test)\n",
    "    loss_test = criterion(y_test_pred, y_test)\n",
    "    \n",
    "    test_loss.append(loss_test.item())\n",
    "           "
   ]
  },
  {
   "cell_type": "code",
   "execution_count": null,
   "metadata": {},
   "outputs": [],
   "source": [
    "plt.figure()\n",
    "    plt.plot(train.loss)\n",
    "    plt.title(\"Loss Graph of train\")\n",
    "\n",
    "plt.figure()\n",
    "plt.plot(y_test_pred, \".\", label=\"predict\")\n",
    "plt.plot(y_test, \".\", label=\"target\")\n",
    "plt.title(\"Predict VS Target\")\n",
    "#plt.ylim(0, 100)\n",
    "plt.legend()"
   ]
  }
 ],
 "metadata": {
  "kernelspec": {
   "display_name": "cocker",
   "language": "python",
   "name": "python3"
  },
  "language_info": {
   "codemirror_mode": {
    "name": "ipython",
    "version": 3
   },
   "file_extension": ".py",
   "mimetype": "text/x-python",
   "name": "python",
   "nbconvert_exporter": "python",
   "pygments_lexer": "ipython3",
   "version": "3.11.4"
  }
 },
 "nbformat": 4,
 "nbformat_minor": 2
}
